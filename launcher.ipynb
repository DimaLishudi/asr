{
 "cells": [
  {
   "cell_type": "code",
   "execution_count": 4,
   "id": "a84f200e",
   "metadata": {},
   "outputs": [
    {
     "data": {
      "text/plain": [
       "True"
      ]
     },
     "execution_count": 4,
     "metadata": {},
     "output_type": "execute_result"
    }
   ],
   "source": [
    "# import wandb\n",
    "# wandb.login()\n",
    "\n",
    "import torch\n",
    "\n",
    "torch.cuda.is_available()"
   ]
  },
  {
   "cell_type": "code",
   "execution_count": null,
   "id": "1a9a994e",
   "metadata": {},
   "outputs": [],
   "source": [
    "!pip uninstall windows-curses"
   ]
  },
  {
   "cell_type": "code",
   "execution_count": 1,
   "id": "8fe527b2",
   "metadata": {
    "scrolled": false
   },
   "outputs": [
    {
     "name": "stderr",
     "output_type": "stream",
     "text": [
      "kenlm python bindings are not installed. Most likely you want to install it using: pip install https://github.com/kpu/kenlm/archive/master.zip\n",
      "kenlm python bindings are not installed. Most likely you want to install it using: pip install https://github.com/kpu/kenlm/archive/master.zip\n",
      "The torchaudio backend is switched to 'soundfile'. Note that 'sox_io' is not supported on Windows.\n",
      "The torchaudio backend is switched to 'soundfile'. Note that 'sox_io' is not supported on Windows.\n",
      "Traceback (most recent call last):\n",
      "  File \"train.py\", line 14, in <module>\n",
      "    from hw_asr.utils.object_loading import get_dataloaders\n",
      "  File \"C:\\Users\\777\\Documents\\HW\\DLA\\asr\\asr_project_template\\hw_asr\\utils\\object_loading.py\", line 6, in <module>\n",
      "    import hw_asr.datasets\n",
      "  File \"C:\\Users\\777\\Documents\\HW\\DLA\\asr\\asr_project_template\\hw_asr\\datasets\\__init__.py\", line 4, in <module>\n",
      "    from hw_asr.datasets.ljspeech_dataset import LJspeechDataset\n",
      "  File \"C:\\Users\\777\\Documents\\HW\\DLA\\asr\\asr_project_template\\hw_asr\\datasets\\ljspeech_dataset.py\", line 5, in <module>\n",
      "    from curses.ascii import isascii\n",
      "  File \"C:\\Program Files\\WindowsApps\\PythonSoftwareFoundation.Python.3.8_3.8.2800.0_x64__qbz5n2kfra8p0\\lib\\curses\\__init__.py\", line 13, in <module>\n",
      "    from _curses import *\n",
      "ModuleNotFoundError: No module named '_curses'\n"
     ]
    }
   ],
   "source": [
    "!python train.py -c hw_asr/configs/one_batch_test.json"
   ]
  },
  {
   "cell_type": "code",
   "execution_count": 4,
   "id": "bcabec21",
   "metadata": {},
   "outputs": [],
   "source": [
    "import sys\n",
    "sys.stdout.flush()"
   ]
  },
  {
   "cell_type": "code",
   "execution_count": 3,
   "id": "ba08f067",
   "metadata": {},
   "outputs": [],
   "source": [
    "# !pip install https://github.com/kpu/kenlm/archive/master.zip"
   ]
  },
  {
   "cell_type": "code",
   "execution_count": 4,
   "id": "535b3788",
   "metadata": {},
   "outputs": [
    {
     "data": {
      "text/plain": [
       "['C:\\\\Users\\\\777\\\\Documents\\\\HW\\\\DLA\\\\asr\\\\asr_project_template',\n",
       " 'C:\\\\ProgramData\\\\Anaconda3\\\\python39.zip',\n",
       " 'C:\\\\ProgramData\\\\Anaconda3\\\\DLLs',\n",
       " 'C:\\\\ProgramData\\\\Anaconda3\\\\lib',\n",
       " 'C:\\\\ProgramData\\\\Anaconda3',\n",
       " '',\n",
       " 'C:\\\\Users\\\\777\\\\AppData\\\\Roaming\\\\Python\\\\Python39\\\\site-packages',\n",
       " 'C:\\\\ProgramData\\\\Anaconda3\\\\lib\\\\site-packages',\n",
       " 'C:\\\\ProgramData\\\\Anaconda3\\\\lib\\\\site-packages\\\\win32',\n",
       " 'C:\\\\ProgramData\\\\Anaconda3\\\\lib\\\\site-packages\\\\win32\\\\lib',\n",
       " 'C:\\\\ProgramData\\\\Anaconda3\\\\lib\\\\site-packages\\\\Pythonwin']"
      ]
     },
     "execution_count": 4,
     "metadata": {},
     "output_type": "execute_result"
    }
   ],
   "source": [
    "import sys\n",
    "sys.path"
   ]
  },
  {
   "cell_type": "code",
   "execution_count": 5,
   "id": "d894e609",
   "metadata": {},
   "outputs": [
    {
     "name": "stdout",
     "output_type": "stream",
     "text": [
      "False False\n",
      "MY OLD FRIEND WAS NOT THERE | 0.0008091792087095934\n",
      "MY OLD FRIEQND WAS NFSDFOT THERE | 0.0008091792087095934\n",
      "1.0\n",
      "\n",
      "\n",
      "False True\n",
      "MY OLD FRIEND WAS NOT THERE | 0.0003375340944073815\n",
      "MY OLD FRIEQND WAS NFSDFOT THERE | 0.0003375340944073815\n",
      "1.0\n",
      "\n",
      "\n",
      "True False\n",
      "MY OLD FRIEND WAS NOT THERE | 0.0015013809618730247\n",
      "MY OLD FRIEQND WAS NFSDFOT THERE | 0.0015013809618730247\n",
      "1.0\n",
      "\n",
      "\n",
      "True True\n",
      "MY OLD FRIEND WAS NOT THERE | 0.0006262732134880751\n",
      "MY OLD FRIEQND WAS NFSDFOT THERE | 0.0006262732134880751\n",
      "1.0\n",
      "\n",
      "\n"
     ]
    }
   ],
   "source": [
    "import kenlm\n",
    "import numpy as np\n",
    "\n",
    "str1 = 'my old friend was not there'.upper()\n",
    "str2 = 'my old frieqnd was nfsdfot there'.upper()\n",
    "\n",
    "\n",
    "model = kenlm.Model('./lm_models/3gpruned.arpa')\n",
    "# print(f'{str1} | {np.exp(model.score(str1, bos = True, eos = False))}')\n",
    "for a in [False, True]:\n",
    "    for b in [False, True]:\n",
    "        print(a, b)\n",
    "        print(f'{str1} | {np.exp(model.score(str1, bos = a, eos = b))}')\n",
    "        print(f'{str2} | {np.exp(model.score(str2, bos = a, eos = b))}')\n",
    "        print(np.exp(model.score(str1, bos = a, eos = b) - model.score(str2, bos = a, eos = b)))\n",
    "        print('\\n')"
   ]
  },
  {
   "cell_type": "code",
   "execution_count": 6,
   "id": "7c0e2d93",
   "metadata": {},
   "outputs": [],
   "source": [
    "# print(model.score('this is a sentence .', bos = True, eos = False))\n",
    "# print(model.score('this is a sentence', bos = True, eos = True))"
   ]
  },
  {
   "cell_type": "code",
   "execution_count": 7,
   "id": "2df16b1d",
   "metadata": {},
   "outputs": [
    {
     "data": {
      "text/plain": [
       "['.git',\n",
       " '.gitignore',\n",
       " '.idea',\n",
       " '.ipynb_checkpoints',\n",
       " 'data',\n",
       " 'Dockerfile',\n",
       " 'hw_asr',\n",
       " 'launcher.ipynb',\n",
       " 'LICENSE',\n",
       " 'lm_models',\n",
       " 'README.md',\n",
       " 'requirements.txt',\n",
       " 'saved',\n",
       " 'test.py',\n",
       " 'test_data',\n",
       " 'train.py',\n",
       " 'venv',\n",
       " 'wandb']"
      ]
     },
     "execution_count": 7,
     "metadata": {},
     "output_type": "execute_result"
    }
   ],
   "source": [
    "from os import listdir\n",
    "from os.path import isfile, join\n",
    "listdir('.')"
   ]
  },
  {
   "cell_type": "code",
   "execution_count": null,
   "id": "0571f1b2",
   "metadata": {},
   "outputs": [],
   "source": []
  }
 ],
 "metadata": {
  "kernelspec": {
   "display_name": "Python 3 (ipykernel)",
   "language": "python",
   "name": "python3"
  },
  "language_info": {
   "codemirror_mode": {
    "name": "ipython",
    "version": 3
   },
   "file_extension": ".py",
   "mimetype": "text/x-python",
   "name": "python",
   "nbconvert_exporter": "python",
   "pygments_lexer": "ipython3",
   "version": "3.9.12"
  }
 },
 "nbformat": 4,
 "nbformat_minor": 5
}
