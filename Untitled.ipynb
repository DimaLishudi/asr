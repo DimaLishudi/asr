{
 "cells": [
  {
   "cell_type": "code",
   "execution_count": 3,
   "id": "6e00958c",
   "metadata": {},
   "outputs": [
    {
     "name": "stdout",
     "output_type": "stream",
     "text": [
      "^C\n"
     ]
    }
   ],
   "source": [
    "!python train.py -c hw_asr/configs/LibriFull.json"
   ]
  },
  {
   "cell_type": "code",
   "execution_count": 2,
   "id": "6675158b",
   "metadata": {},
   "outputs": [],
   "source": [
    "# a.stride"
   ]
  },
  {
   "cell_type": "code",
   "execution_count": null,
   "id": "e6826b4a",
   "metadata": {},
   "outputs": [],
   "source": []
  }
 ],
 "metadata": {
  "kernelspec": {
   "display_name": "Python 3 (ipykernel)",
   "language": "python",
   "name": "python3"
  },
  "language_info": {
   "codemirror_mode": {
    "name": "ipython",
    "version": 3
   },
   "file_extension": ".py",
   "mimetype": "text/x-python",
   "name": "python",
   "nbconvert_exporter": "python",
   "pygments_lexer": "ipython3",
   "version": "3.9.12"
  }
 },
 "nbformat": 4,
 "nbformat_minor": 5
}
